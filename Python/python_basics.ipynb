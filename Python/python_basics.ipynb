{
 "cells": [
  {
   "cell_type": "markdown",
   "id": "593a345a",
   "metadata": {},
   "source": [
    "# PYTHON BASICS\n",
    "\n",
    "Useful material to start familiarizing with Python or to recall basics.\n",
    "You can read and practice in the same place.\n",
    "\n",
    "Official comprehensive documentation - https://docs.python.org/3/library/"
   ]
  },
  {
   "cell_type": "markdown",
   "id": "0b1a3901",
   "metadata": {},
   "source": [
    "## Data structures\n",
    "\n",
    "| Data structure | Ordered | Mutable | Constructor | Example                  |\n",
    "|----------------|---------|---------|-------------|--------------------------|\n",
    "| int            | NA      | NA      | int()       | 5                        |\n",
    "| float          | NA      | NA      | float()     | 6.5                      |\n",
    "| string         | Yes     | No      | ' ' or \" \" or str() | \"this is a string\"        |\n",
    "| bool           | NA      | NA      | NA          | True or False            |\n",
    "| list           | Yes     | Yes     | [ ] or list() | [5, 'yes', 5.7]          |\n",
    "| tuple          | Yes     | No      | ( ) or tuple() | (5, 'yes', 5.7)          |\n",
    "| set            | No      | Yes     | { } or set() | {5, 'yes', 5.7}          |\n",
    "| dictionary     | No      | Keys: No | { } or dict() | {'Jun': 75, 'Jul': 89}   |"
   ]
  },
  {
   "cell_type": "markdown",
   "id": "434dcc94",
   "metadata": {},
   "source": [
    "## Integers and Floats"
   ]
  },
  {
   "cell_type": "code",
   "execution_count": 1,
   "id": "ed3ba858",
   "metadata": {},
   "outputs": [
    {
     "name": "stdout",
     "output_type": "stream",
     "text": [
      "x =  4\n",
      "y =  4.0\n",
      "type of x is <class 'int'>\n",
      "type of y is <class 'float'>\n",
      "type of '3.' is <class 'float'>\n"
     ]
    }
   ],
   "source": [
    "x = int(4.7)   # x is now an integer 4\n",
    "print(\"x = \", x)\n",
    "\n",
    "y = float(4)   # y is now a float of 4.0\n",
    "print(\"y = \", y)\n",
    "\n",
    "# You can check the type by using the type function:\n",
    "print(\"type of x is\", type(x))\n",
    "print(\"type of y is\", type(y))\n",
    "\n",
    "# To create float number, just add '.' after it, for example \"3.\"\n",
    "print(\"type of '3.' is\", type(3.))"
   ]
  },
  {
   "cell_type": "markdown",
   "id": "56c2499b",
   "metadata": {},
   "source": [
    "## Strings\n",
    "\n",
    "Strings in Python are sequences of characters enclosed in single quotes (`'`) or double quotes (`\"`). They are versatile and widely used for representing text-based data. Here's a brief overview of strings along with examples of basic string operations and methods:\n",
    "\n",
    "Definition: Strings are immutable sequences of characters. They can contain letters, numbers, symbols, and whitespace. String objects have a variety of built-in methods for manipulation and analysis.\n",
    "\n",
    "See examples of basic string methods below."
   ]
  },
  {
   "cell_type": "code",
   "execution_count": 96,
   "id": "ce733bfb",
   "metadata": {},
   "outputs": [
    {
     "name": "stdout",
     "output_type": "stream",
     "text": [
      "Hello, world!\n",
      "Hello, World\n",
      "P\n",
      "n\n",
      "yth\n",
      "Pyt\n",
      "thon\n",
      "13\n",
      "HELLO, WORLD!\n",
      "hello, world!\n",
      "['Hello', 'world!']\n",
      "Hello, Python!\n",
      "True\n",
      "False\n",
      "My name is Alice, and I am 25 years old.\n",
      "My name is Bob, and I am 30 years old.\n",
      "The price is 19.99 dollars.\n"
     ]
    }
   ],
   "source": [
    "# Some Basic String Operations\n",
    "\n",
    "## string variable that holds the value \"Hello, world!\"\n",
    "my_string = 'Hello, world!'\n",
    "print(my_string)\n",
    "\n",
    "## Concatenation\n",
    "str1 = 'Hello'\n",
    "str2 = 'World'\n",
    "result = str1 + ', ' + str2\n",
    "print(result)  # Output: 'Hello, World'\n",
    "\n",
    "## Indexing\n",
    "my_string = 'Python'\n",
    "print(my_string[0])  # Output: 'P'\n",
    "print(my_string[-1])  # Output: 'n'\n",
    "\n",
    "## Slicing\n",
    "my_string = 'Python'\n",
    "print(my_string[1:4])  # Output: 'yth'\n",
    "print(my_string[:3])  # Output: 'Pyt'\n",
    "print(my_string[2:])  # Output: 'thon'\n",
    "\n",
    "## Length\n",
    "my_string = 'Hello, world!'\n",
    "length = len(my_string)\n",
    "print(length)  # Output: 13\n",
    "\n",
    "\n",
    "# Some Basic String Methods\n",
    "\n",
    "## upper(): Converts the string to uppercase.\n",
    "my_string = 'Hello, world!'\n",
    "print(my_string.upper())  # Output: 'HELLO, WORLD!'\n",
    "\n",
    "## lower(): Converts the string to lowercase.\n",
    "my_string = 'HELLO, WORLD!'\n",
    "print(my_string.lower())  # Output: 'hello, world!'\n",
    "\n",
    "## split(): Splits the string into a list of substrings based on a delimiter.\n",
    "my_string = 'Hello, world!'\n",
    "words = my_string.split(', ')\n",
    "print(words)  # Output: ['Hello', 'world!']\n",
    "\n",
    "## replace(): Replaces occurrences of a substring with another substring.\n",
    "my_string = 'Hello, world!'\n",
    "new_string = my_string.replace('world', 'Python')\n",
    "print(new_string)  # Output: 'Hello, Python!'\n",
    "\n",
    "## startswith(): Checks if the string starts with a specified prefix.\n",
    "my_string = 'Hello, world!'\n",
    "print(my_string.startswith('Hello'))  # Output: True\n",
    "print(my_string.startswith('Bye'))  # Output: False\n",
    "\n",
    "## format(): provides a powerful way to format strings by substituting values into placeholders within the string\n",
    "# It supports various formatting options, such as positional and keyword arguments, as well as formatting for numeric values, \n",
    "# dates, and more. Below are just a few examples of its usage\n",
    "\n",
    "# Example 1: Positional Arguments\n",
    "name = \"Alice\"\n",
    "age = 25\n",
    "message = \"My name is {}, and I am {} years old.\".format(name, age)\n",
    "print(message) # Output: My name is Alice, and I am 25 years old.\n",
    "\n",
    "# Example 2: Keyword Arguments\n",
    "name = \"Bob\"\n",
    "age = 30\n",
    "message = \"My name is {name}, and I am {age} years old.\".format(name=name, age=age)\n",
    "print(message) # Output: My name is Bob, and I am 30 years old.\n",
    "\n",
    "# Example 3: Formatting Numeric Values\n",
    "# In this example, the format() method is used to format the price variable as a floating-point number with \n",
    "# two decimal places (:.2f).\n",
    "price = 19.99467\n",
    "formatted_price = \"The price is {:.2f} dollars.\".format(price)\n",
    "print(formatted_price) # Output: The price is 19.99 dollars."
   ]
  },
  {
   "cell_type": "markdown",
   "id": "c9611abe",
   "metadata": {},
   "source": [
    "## Loops\n",
    "\n",
    "Loops are control structures that allow you to repeatedly execute a block of code based on a specified condition or for a specific number of iterations. \n",
    "There are two main types of loops in Python: \n",
    "- `for` loops\n",
    "- `while` loops\n",
    "\n",
    "#### For Loops\n",
    "\n",
    "- `for` loops are used to iterate over a sequence (such as a string, list, tuple, or range) or any iterable object.\n",
    "- The loop variable takes on each value in the sequence one by one, and the block of code within the loop is executed for each iteration.\n",
    "- `for` loops are useful when you know the number of iterations in advance or want to iterate over a specific sequence.\n",
    "- `for` loop can be combined with an `else` block to add an additional block of code that is executed when the loop completes naturally (not due to a break statement).\n",
    "\n",
    "\n",
    "#### While Loops\n",
    "\n",
    "- `while` loops are used to repeatedly execute a block of code as long as a specified condition remains true.\n",
    "- The loop continues to execute until the condition becomes false.\n",
    "- `while` loops are useful when you don't know the number of iterations in advance or want to repeatedly execute a block of code based on a certain condition.\n",
    "- `while` loop can be combined with an `else` block to add an additional block of code that is executed when the loop condition becomes false. This construct is known as a \"`while-else`\" loop.\n"
   ]
  },
  {
   "cell_type": "code",
   "execution_count": null,
   "id": "b96efca4",
   "metadata": {},
   "outputs": [],
   "source": [
    "# Practice examples with loops\n",
    "\n",
    "## 'for' loop\n",
    "\n",
    "### Example 1: Iterating over a List\n",
    "fruits = ['apple', 'banana', 'cherry']\n",
    "for fruit in fruits:\n",
    "    print(fruit)\n",
    "\n",
    "### Example 2: Iterating over a Range\n",
    "for num in range(1, 6):\n",
    "    print(num)\n",
    "\n",
    "\n",
    "## 'while' loop\n",
    "\n",
    "### Example 1: Countdown\n",
    "count = 5\n",
    "while count > 0:\n",
    "    print(count)\n",
    "    count -= 1\n",
    "\n",
    "### Example 2: User Input Validation\n",
    "# password = input(\"Enter your password: \")\n",
    "# while password != \"secret\":\n",
    "#     print(\"Invalid password. Try again.\")\n",
    "#     password = input(\"Enter your password: \")\n",
    "# print(\"Login successful!\")\n",
    "\n",
    "\n",
    "## 'while-else' loop\n",
    "countdown = 5\n",
    "while countdown > 0:\n",
    "    print(countdown)\n",
    "    countdown -= 1\n",
    "else:\n",
    "    print(\"Countdown complete!\")\n",
    "\n",
    "\n",
    "## 'for-else' loop\n",
    "numbers = [1, 3, 5, 7, 9]\n",
    "for num in numbers:\n",
    "    if num % 2 == 0:\n",
    "        print(\"Even number found.\")\n",
    "        break\n",
    "else:\n",
    "    print(\"No even numbers found.\")"
   ]
  },
  {
   "cell_type": "markdown",
   "id": "789a1512",
   "metadata": {},
   "source": [
    "### 'break' and 'continue' operators\n",
    "\n",
    "The `break` and `continue` statements are control flow statements in Python that allow you to alter the normal flow of execution within loops.\n",
    "\n",
    "#### `break` statement:\n",
    "\n",
    "- The `break` statement is used to exit or terminate the current loop (whether it's a `for` loop or a `while` loop) prematurely.\n",
    "- When the `break` statement is encountered, the loop is immediately terminated, and the program execution continues with the next statement following the loop.\n",
    "- It is commonly used to exit a loop early when a specific condition is met or when you want to stop the loop altogether.\n",
    "\n",
    "\n",
    "#### `continue` statement:\n",
    "\n",
    "- The `continue` statement is used to skip the current iteration of a loop and move to the next iteration.\n",
    "- When the `continue` statement is encountered, the remaining code within the loop for the current iteration is skipped, and the next iteration begins.\n",
    "- It is commonly used to bypass certain iterations based on specific conditions or to skip processing certain elements."
   ]
  },
  {
   "cell_type": "code",
   "execution_count": 107,
   "id": "59f62709",
   "metadata": {},
   "outputs": [
    {
     "name": "stdout",
     "output_type": "stream",
     "text": [
      "1\n",
      "2\n",
      "3\n",
      "4\n",
      "1 1\n",
      "1 2\n",
      "1 3\n",
      "2 1\n",
      "2 2\n",
      "3 1\n",
      "1\n",
      "3\n",
      "5\n",
      "7\n",
      "9\n",
      "apple\n",
      "cherry\n",
      "date\n"
     ]
    }
   ],
   "source": [
    "# using 'break' statement\n",
    "\n",
    "## Example 1: Exiting a Loop\n",
    "# In this example, the break statement is used to exit the for loop when num becomes equal to 5. \n",
    "# As a result, the loop terminates, and the remaining numbers are not printed.\n",
    "for num in range(1, 10):\n",
    "    if num == 5:\n",
    "        break\n",
    "    print(num)\n",
    "\n",
    "## Example 2: Breaking Out of Nested Loops\n",
    "# In this example, there are nested for loops. The break statement is used to terminate the inner loop when the product of i \n",
    "# and j becomes equal to 6. Once the inner loop is exited, the control goes to the outer loop, and the next iteration begins.\n",
    "for i in range(1, 4):\n",
    "    for j in range(1, 4):\n",
    "        if i * j == 6:\n",
    "            break\n",
    "        print(i, j)\n",
    "\n",
    "\n",
    "# using 'continue' statement\n",
    "\n",
    "## Example 1: Skipping Even Numbers\n",
    "# In this example, the continue statement is used to skip the even numbers (num % 2 == 0). When an even number is encountered, \n",
    "# the continue statement causes the remaining code in the loop for that iteration to be skipped, and the loop proceeds \n",
    "# to the next iteration\n",
    "for num in range(1, 10):\n",
    "    if num % 2 == 0:\n",
    "        continue\n",
    "    print(num)\n",
    "\n",
    "## Example 2: Skipping a Specific Value\n",
    "# In this example, the continue statement is used to skip the iteration when the value of fruit is 'banana'. As a result, \n",
    "# the word 'banana' is not printed.\n",
    "fruits = ['apple', 'banana', 'cherry', 'date']\n",
    "for fruit in fruits:\n",
    "    if fruit == 'banana':\n",
    "        continue\n",
    "    print(fruit)"
   ]
  },
  {
   "cell_type": "markdown",
   "id": "a0d300d2",
   "metadata": {},
   "source": [
    "## Lists"
   ]
  },
  {
   "cell_type": "code",
   "execution_count": 25,
   "id": "8135f33d",
   "metadata": {},
   "outputs": [
    {
     "name": "stdout",
     "output_type": "stream",
     "text": [
      "a =  []\n",
      "a =  [1, 'tree', [1, 2, 3, 4]]\n",
      "['apple', 'banana', 'orange', 'mango']\n",
      "['apple', 'banana', 'orange', 'mango', 'grape', 'kiwi']\n",
      "['apple', 'banana', 'pear', 'orange', 'mango', 'grape', 'kiwi']\n",
      "['apple', 'pear', 'orange', 'mango', 'grape', 'kiwi']\n",
      "['apple', 'pear', 'orange', 'grape', 'kiwi']\n",
      "2\n",
      "1\n",
      "['apple', 'grape', 'kiwi', 'orange', 'pear']\n",
      "['pear', 'orange', 'kiwi', 'grape', 'apple']\n",
      "['pear', 'orange', 'kiwi', 'grape', 'apple']\n",
      "[]\n",
      "5\n",
      "['apple', 'orange', 'mango']\n",
      "['apple']\n",
      "animals =  ['ant', 'bat', 'cat']\n",
      "animals[0] =  ant\n",
      "animals[0:2] = ['ant', 'bat']\n",
      "animals[0:3] = ['ant', 'bat', 'cat']\n",
      "animals.index('bat') =  1\n"
     ]
    }
   ],
   "source": [
    "a = [] # empty list\n",
    "print(\"a = \", a)\n",
    "\n",
    "# List can contains different objects, including lists - lists inside lists\n",
    "a = [1, \"tree\", [1,2,3,4]]\n",
    "print(\"a = \", a)\n",
    "\n",
    "\n",
    "# List methods\n",
    "\n",
    "fruits = [\"apple\", \"banana\", \"orange\"]\n",
    "\n",
    "## append(element): Adds an element to the end of the list.\n",
    "fruits.append(\"mango\")\n",
    "print(fruits)  # Output: ['apple', 'banana', 'orange', 'mango']\n",
    "\n",
    "## extend(iterable): Appends elements from an iterable (such as a list, tuple, or string) to the end of the list.\n",
    "fruits.extend([\"grape\", \"kiwi\"])\n",
    "print(fruits)  # Output: ['apple', 'banana', 'orange', 'mango', 'grape', 'kiwi']\n",
    "\n",
    "## insert(index, element): Inserts an element at a specific index in the list.\n",
    "fruits.insert(2, \"pear\")\n",
    "print(fruits)  # Output: ['apple', 'banana', 'pear', 'orange', 'mango', 'grape', 'kiwi']\n",
    "\n",
    "## remove(element): Removes the first occurrence of the specified element from the list.\n",
    "fruits.remove(\"banana\")\n",
    "print(fruits)  # Output: ['apple', 'pear', 'orange', 'mango', 'grape', 'kiwi']\n",
    "\n",
    "## del(index): Removes\n",
    "\n",
    "## pop(index): Removes and returns the element at the specified index. \n",
    "# If no index is specified, it removes and returns the last element.\n",
    "fruits.pop(3)\n",
    "print(fruits)  # Output: ['apple', 'pear', 'orange', 'grape', 'kiwi']\n",
    "\n",
    "## index(element): Returns the index of the first occurrence of the specified element in the list.\n",
    "print(fruits.index(\"orange\"))  # Output: 2\n",
    "\n",
    "## count(element): Returns the number of occurrences of the specified element in the list.\n",
    "print(fruits.count(\"apple\"))  # Output: 1\n",
    "\n",
    "## sort(): Sorts the list in ascending order.\n",
    "fruits.sort()\n",
    "sorted(fruits)\n",
    "print(fruits)  # Output: ['apple', 'grape', 'kiwi', 'orange', 'pear']\n",
    "\n",
    "## reverse(): Reverses the order of elements in the list.\n",
    "fruits.reverse()\n",
    "print(fruits)  # Output: ['pear', 'orange', 'kiwi', 'grape', 'apple']\n",
    "\n",
    "## copy(): Returns a shallow copy of the list.\n",
    "fruits_copy = fruits.copy()\n",
    "print(fruits_copy)  # Output: ['pear', 'orange', 'kiwi', 'grape', 'apple']\n",
    "\n",
    "## clear(): Removes all elements from the list.\n",
    "fruits.clear()\n",
    "print(fruits)  # Output: []\n",
    "\n",
    "## len(): Returns the number of elements in the list.\n",
    "print(len(fruits_copy))  # Output: 5\n",
    "\n",
    "\n",
    "## `del` keyword\n",
    "fruits = [\"apple\", \"banana\", \"orange\", \"mango\"]\n",
    "\n",
    "# Deleting a specific element at index 1\n",
    "del fruits[1]\n",
    "print(fruits)  # Output: ['apple', 'orange', 'mango']\n",
    "\n",
    "# Deleting a slice of elements from index 1 to 3 (exclusive)\n",
    "del fruits[1:3]\n",
    "print(fruits)  # Output: ['apple']\n",
    "\n",
    "# Deleting the entire list\n",
    "del fruits\n",
    "#print(fruits)  # NameError: name 'fruits' is not defined\n",
    "\n",
    "\n",
    "# SELECTING ELEMENTS FROM LIST\n",
    "\n",
    "## Elements from list can be selected by index and slice\n",
    "animals = [\"ant\", \"bat\", \"cat\"]\n",
    "print(\"animals = \", animals)\n",
    "print(\"animals[0] = \", animals[0]) # by index\n",
    "print(\"animals[0:2] =\", animals[0:2]) # by slice\n",
    "print(\"animals[0:3] =\", animals[0:3]) # by slice\n",
    "\n",
    "## To get index of an elements in the list\n",
    "animals = [\"ant\", \"bat\", \"cat\"]\n",
    "print(\"animals.index('bat') = \", animals.index(\"bat\"))"
   ]
  },
  {
   "cell_type": "markdown",
   "id": "f987c484",
   "metadata": {},
   "source": [
    "### Iterating over lists\n",
    "\n",
    "Two ways\n",
    "\n",
    "1\n",
    "\n",
    "```\n",
    "for item in list:\n",
    "    print item\n",
    "```\n",
    "\n",
    "2\n",
    "```\n",
    "for i in range(len(list)):\n",
    "    print list[i]\n",
    "```"
   ]
  },
  {
   "cell_type": "code",
   "execution_count": null,
   "id": "177456c7",
   "metadata": {},
   "outputs": [],
   "source": [
    "my_list = list(range(10))\n",
    "\n",
    "#1\n",
    "for item in my_list:\n",
    "    print(item)\n",
    "\n",
    "#2\n",
    "for i in range(len(my_list)):\n",
    "    print(my_list[i])"
   ]
  },
  {
   "cell_type": "markdown",
   "id": "fb380f5a",
   "metadata": {},
   "source": [
    "### Useful functions for lists\n",
    "\n",
    "join(), zip(), and enumerate()"
   ]
  },
  {
   "cell_type": "code",
   "execution_count": 86,
   "id": "d622139b",
   "metadata": {},
   "outputs": [
    {
     "name": "stdout",
     "output_type": "stream",
     "text": [
      "list_str =  ['jan', 'feb', 'mar', 'apr', 'may', 'jun', 'jul', 'aug', 'sep', 'oct', 'nov', 'dec']\n",
      "separator_string =  -\n",
      "join_string =  jan-feb-mar-apr-may-jun-jul-aug-sep-oct-nov-dec\n"
     ]
    }
   ],
   "source": [
    "# method join()\n",
    "# Join is a string method that takes a list of strings as an argument, \n",
    "# and returns a string consisting of the list elements joined by a separator string.\n",
    "\n",
    "list_str = ['jan','feb','mar','apr','may','jun','jul','aug','sep','oct','nov','dec']\n",
    "print(\"list_str = \", list_str)\n",
    "\n",
    "separator_string = \"-\"\n",
    "print(\"separator_string = \", separator_string)\n",
    "\n",
    "join_string = separator_string.join(list_str)\n",
    "print(\"join_string = \", join_string)"
   ]
  },
  {
   "cell_type": "code",
   "execution_count": 90,
   "id": "8faf46cf",
   "metadata": {},
   "outputs": [
    {
     "name": "stdout",
     "output_type": "stream",
     "text": [
      "False\n",
      "True\n",
      "last_element =  b\n"
     ]
    }
   ],
   "source": [
    "# Check if an element is in the list\n",
    "element_1 = 'a'\n",
    "element_2 = 3\n",
    "my_list = [1, 3, 5, 'b']\n",
    "\n",
    "print(element_1 in my_list) #False\n",
    "print(element_2 in my_list) #True\n",
    "\n",
    "\n",
    "# Get last elements of a list\n",
    "# Last element of a list has index \"-1\", the second from the end \"-2\", then \"-3\", etc\n",
    "my_list = [1, 3, 5, 'b']\n",
    "last_element = my_list[-1]\n",
    "print(\"last_element = \", last_element)"
   ]
  },
  {
   "cell_type": "code",
   "execution_count": 103,
   "id": "6054bbc5",
   "metadata": {},
   "outputs": [
    {
     "name": "stdout",
     "output_type": "stream",
     "text": [
      "letters =  ['a', 'b', 'c']\n",
      "nums =  [1, 2, 3]\n",
      "combined_list =  [('a', 1), ('b', 2), ('c', 3)]\n",
      "a: 1\n",
      "b: 2\n",
      "c: 3\n",
      "persons =  [('Mark', 13), ('Alice', 6), ('Bob', 10)]\n",
      "name =  ('Mark', 'Alice', 'Bob')\n",
      "age =  (13, 6, 10)\n",
      "F: 23, 677, 4\n",
      "J: 53, 233, 16\n",
      "A: 2, 405, -6\n",
      "Q: -12, 433, -42\n",
      "Y: 95, 905, 3\n",
      "B: 103, 376, -6\n",
      "W: 14, 432, 23\n",
      "X: -5, 445, -1\n"
     ]
    }
   ],
   "source": [
    "# Function zip()\n",
    "\n",
    "# zip returns an iterator that combines multiple iterables into one sequence of tuples. \n",
    "# Each tuple contains the elements in that position from all the iterables.\n",
    "\n",
    "# example\n",
    "letters = ['a', 'b', 'c']\n",
    "nums = [1, 2, 3]\n",
    "combined_list = list(zip(letters, nums))\n",
    "\n",
    "print(\"letters = \", letters)\n",
    "print(\"nums = \", nums)\n",
    "print(\"combined_list = \", combined_list)\n",
    "\n",
    "# unpacking tuples\n",
    "for letter, num in combined_list:\n",
    "    print(\"{}: {}\".format(letter, num))\n",
    "\n",
    "    \n",
    "# unzipping a list using an asterisk '*'\n",
    "persons = [('Mark', 13), ('Alice', 6), ('Bob', 10)]\n",
    "names, ages = zip(*persons)\n",
    "\n",
    "print(\"persons = \", persons)\n",
    "print(\"name = \", name)\n",
    "print(\"age = \", age)\n",
    "\n",
    "\n",
    "# another example\n",
    "\n",
    "x_coord = [23, 53, 2, -12, 95, 103, 14, -5]\n",
    "y_coord = [677, 233, 405, 433, 905, 376, 432, 445]\n",
    "z_coord = [4, 16, -6, -42, 3, -6, 23, -1]\n",
    "labels  = [\"F\", \"J\", \"A\", \"Q\", \"Y\", \"B\", \"W\", \"X\"]\n",
    "\n",
    "points = []\n",
    "for point in zip(labels, x_coord, y_coord, z_coord):\n",
    "    points.append(\"{}: {}, {}, {}\".format(*point))\n",
    "\n",
    "for point in points:\n",
    "    print(point)"
   ]
  },
  {
   "cell_type": "code",
   "execution_count": 104,
   "id": "6e318b93",
   "metadata": {},
   "outputs": [
    {
     "name": "stdout",
     "output_type": "stream",
     "text": [
      "0 a\n",
      "1 b\n",
      "2 c\n",
      "3 d\n",
      "4 e\n"
     ]
    }
   ],
   "source": [
    "# Function enumerate()\n",
    "\n",
    "# enumerate() is a built in function that returns an iterator of tuples containing indices and values of a list. \n",
    "# It's helpful when you need the index along with each element of an iterable in a loop.\n",
    "\n",
    "letters = ['a', 'b', 'c', 'd', 'e']\n",
    "for i, letter in enumerate(letters):\n",
    "    print(i, letter)"
   ]
  },
  {
   "cell_type": "markdown",
   "id": "57b5f91d",
   "metadata": {},
   "source": [
    "## List Comprehensions\n",
    "Quick and concise way to create lists\n",
    "\n",
    "List comprehensions allow us to create a list using a for loop in one step.\n",
    "list comprehension is created with brackets **[]**, and includes an expression to evaluate for each element in an iterable. "
   ]
  },
  {
   "cell_type": "code",
   "execution_count": 42,
   "id": "78cd866e",
   "metadata": {},
   "outputs": [
    {
     "name": "stdout",
     "output_type": "stream",
     "text": [
      "cities =  ['moscow', 'london', 'paris', 'tokyo', 'sydney']\n",
      "capitalized_cities =  ['Moscow', 'London', 'Paris', 'Tokyo', 'Sydney']\n",
      "capitalized_cities =  ['Moscow', 'London', 'Paris', 'Tokyo', 'Sydney']\n"
     ]
    }
   ],
   "source": [
    "# example\n",
    "cities = [\"moscow\", \"london\", \"paris\", \"tokyo\", \"sydney\"]\n",
    "\n",
    "capitalized_cities = []\n",
    "for city in cities:\n",
    "    capitalized_cities.append(city.title())\n",
    "\n",
    "print(\"cities = \", cities)\n",
    "print(\"capitalized_cities = \", capitalized_cities)\n",
    "\n",
    "# using list comprehensions, the code above can be simplified:\n",
    "capitalized_cities = [city.title() for city in cities]\n",
    "print(\"capitalized_cities = \", capitalized_cities)\n",
    "## This list comprehension above calls city.title() for each element city in cities, \n",
    "## to create each element in the new list, capitalized_cities\n",
    "\n"
   ]
  },
  {
   "cell_type": "markdown",
   "id": "14727139",
   "metadata": {},
   "source": [
    "### Function range()\n",
    "\n",
    "Function generates a list\n",
    "\n",
    "The range function has three different versions:\n",
    " - range(stop)\n",
    " - range(start, stop)\n",
    " - range(start, stop, step)\n",
    "In all cases, the range() function returns a list of numbers from start up to (but not including) stop. Each item increases by step.\n",
    "\n",
    "If omitted, start defaults to zero and step defaults to one.\n",
    "\n",
    "```\n",
    "range(6) # => [0,1,2,3,4,5]\n",
    "range(1,6) # => [1,2,3,4,5]\n",
    "range(1,6,3) # => [1,4]\n",
    "```"
   ]
  },
  {
   "cell_type": "code",
   "execution_count": 73,
   "id": "215c70f0",
   "metadata": {},
   "outputs": [
    {
     "name": "stdout",
     "output_type": "stream",
     "text": [
      "[0, 1, 2, 3, 4, 5]\n",
      "[1, 2, 3, 4, 5]\n",
      "[1, 4]\n"
     ]
    }
   ],
   "source": [
    "print(list(range(6)))\n",
    "print(list(range(1,6)))\n",
    "print(list(range(1,6,3)))"
   ]
  },
  {
   "cell_type": "markdown",
   "id": "167c5b1f",
   "metadata": {},
   "source": [
    "### Conditionals in List Comprehensions\n",
    "You can also add conditionals to list comprehensions (listcomps). After the iterable, you can use the if keyword to check a condition in each iteration."
   ]
  },
  {
   "cell_type": "code",
   "execution_count": 51,
   "id": "2207cf5c",
   "metadata": {},
   "outputs": [
    {
     "name": "stdout",
     "output_type": "stream",
     "text": [
      "[0, 4, 16, 36, 64]\n",
      "[0, 4, 4, 6, 16, 8, 36, 10, 64]\n",
      "my_list =  [0, 1, 2, 3, 4, 5, 6, 7, 8, 9, 10, 11, 12, 13, 14, 15, 16, 17, 18, 19, 20, 21, 22, 23, 24, 25, 26, 27, 28, 29, 30, 31, 32, 33, 34, 35, 36, 37, 38, 39, 40, 41, 42, 43, 44, 45, 46, 47, 48, 49, 50]\n",
      "evens_to_50 =  [0, 2, 4, 6, 8, 10, 12, 14, 16, 18, 20, 22, 24, 26, 28, 30, 32, 34, 36, 38, 40, 42, 44, 46, 48, 50]\n",
      "new_list =  [1, 2, 3, 4, 5]\n",
      "doubles_by_3 =  [6]\n"
     ]
    }
   ],
   "source": [
    "# The code above sets squares equal to the list [0, 4, 16, 36, 64], as x to the power of 2 is only evaluated if x is even. \n",
    "squares = [x**2 for x in range(9) if x % 2 == 0]\n",
    "print(squares)\n",
    "\n",
    "# Adding else\n",
    "squares = [x**2 if x % 2 == 0 else x + 3 for x in range(9)]\n",
    "print(squares)\n",
    "\n",
    "\n",
    "# using range()\n",
    "my_list = list(range(51)) # creates a list of numbers from 0 to 50 (inclusively)\n",
    "print(\"my_list = \", my_list)\n",
    "\n",
    "evens_to_50 = [i for i in range(51) if i % 2 == 0] # creates a list of evens from 0 to 50 (inclusively)\n",
    "print(\"evens_to_50 = \", evens_to_50)\n",
    "\n",
    "new_list = [x for x in range(1,6)]\n",
    "print(\"new_list = \", new_list)"
   ]
  },
  {
   "cell_type": "markdown",
   "id": "5e4f3076",
   "metadata": {},
   "source": [
    "## List slicing\n",
    "\n",
    "Format [start:end:stride], where \n",
    " - 'start' describes where the slice starts (inclusive)\n",
    " - 'end' is where it ends (exclusive)\n",
    " - 'stride' describes the space between items in the sliced list.\n",
    "\n",
    "If omit indexes, Python will use default ones:\n",
    " - start = 0\n",
    " - end = index of last element in the list\n",
    " - stride = 1"
   ]
  },
  {
   "cell_type": "code",
   "execution_count": 55,
   "id": "ad1186a5",
   "metadata": {},
   "outputs": [
    {
     "name": "stdout",
     "output_type": "stream",
     "text": [
      "['D', 'E']\n",
      "['A', 'B']\n",
      "['A', 'C', 'E']\n"
     ]
    }
   ],
   "source": [
    "to_five = ['A', 'B', 'C', 'D', 'E']\n",
    "\n",
    "print(to_five[3:])\n",
    "print(to_five[:2])\n",
    "print(to_five[::2])"
   ]
  },
  {
   "cell_type": "code",
   "execution_count": 68,
   "id": "47bcba0f",
   "metadata": {},
   "outputs": [
    {
     "name": "stdout",
     "output_type": "stream",
     "text": [
      "letters =  ['A', 'B', 'C', 'D', 'E']\n",
      "reversed_letters =  ['E', 'D', 'C', 'B', 'A']\n",
      "letters =  ['E', 'D', 'C', 'B', 'A']\n",
      "[5, 4, 3, 2, 1]\n"
     ]
    }
   ],
   "source": [
    "# Reversing list\n",
    "\n",
    "## A negative stride progresses through the list from right to left.\n",
    "\n",
    "letters = ['A', 'B', 'C', 'D', 'E']\n",
    "print(\"letters = \", letters)\n",
    "\n",
    "reversed_letters = letters[::-1]\n",
    "print(\"reversed_letters = \", reversed_letters)\n",
    "\n",
    "## one more way to reverse a list - using reverse() method for lists\n",
    "letters.reverse()\n",
    "print(\"letters = \", letters)\n",
    "\n",
    "## yet another way to reverse a list - using reversed() method\n",
    "my_list = [1, 2, 3, 4, 5]\n",
    "reversed_list = list(reversed(my_list))\n",
    "print(reversed_list)"
   ]
  },
  {
   "cell_type": "markdown",
   "id": "864e4771",
   "metadata": {},
   "source": [
    "## Set\n",
    "Set - mutable unordered data type. \n",
    "It contains unique elements that don't repeat\n",
    "\n",
    "Set can be used to get unique elements from a list as well.\n",
    "\n",
    "### Operations with Set\n",
    "\n",
    "* `.remove(x)` - this operation removes element  from the set.\n",
    "If element  does not exist, it raises a `KeyError`.\n",
    "The `.remove(x)` operation returns `None`.\n",
    "\n",
    "* `.discard(x)` - this operation also removes element  from the set.\n",
    "If element  does not exist, it does not raise a `KeyError`.\n",
    "The `.discard(x)` operation returns `None`.\n",
    "\n",
    "* `.pop()` - this operation removes and return an arbitrary element from the set.\n",
    "If there are no elements to remove, it raises a `KeyError`.\n"
   ]
  },
  {
   "cell_type": "code",
   "execution_count": 106,
   "id": "e913f434",
   "metadata": {},
   "outputs": [
    {
     "name": "stdout",
     "output_type": "stream",
     "text": [
      "my_list =  [1, 2, 2, 3, 3, 4]\n",
      "my_set =  {1, 2, 3, 4}\n"
     ]
    }
   ],
   "source": [
    "# Set can be created from the list\n",
    "my_list = [1, 2, 2, 3, 3, 4]\n",
    "my_set = set(my_list)\n",
    "\n",
    "print(\"my_list = \", my_list)\n",
    "print(\"my_set = \", my_set)"
   ]
  },
  {
   "cell_type": "markdown",
   "id": "0c8dae10",
   "metadata": {},
   "source": [
    "## Functions\n",
    "\n",
    "General syntax to create a function\n",
    "```\n",
    "def function_name(parameters):\n",
    "    \"\"\"Optional docstring describing the function.\"\"\"\n",
    "    # Function body - code statements\n",
    "    # ...\n",
    "    # ...\n",
    "    # Optional return statement, if the function should return a value\n",
    "    return value\n",
    "```\n",
    "\n",
    " - `def` is the keyword used to define a function.\n",
    " - `function_name` is the name you choose for your function. Make sure it follows Python's naming conventions.\n",
    " - `parameters` are optional placeholders for values that can be passed to the function. You can have zero or more parameters.\n",
    " - The docstring, enclosed in triple quotes (`\"\"\"`), is an optional description of the function. It can be used to provide documentation about the function's purpose, parameters, and return values.\n",
    " - The function body contains the code statements that define the functionality of the function.\n",
    " - Within the function body, you can perform any necessary operations, such as calculations, conditionals, loops, etc.\n",
    " - If the function is intended to return a value, you can use the `return` statement followed by the value to be returned. This is optional, and a function can have no return statement or multiple return statements."
   ]
  },
  {
   "cell_type": "code",
   "execution_count": 2,
   "id": "2e9d6f9c",
   "metadata": {},
   "outputs": [
    {
     "name": "stdout",
     "output_type": "stream",
     "text": [
      "8\n"
     ]
    }
   ],
   "source": [
    "# In this example, the add_numbers() function takes two parameters (a and b), adds them together, and returns the result.\n",
    "def add_numbers(a, b):\n",
    "    \"\"\"Adds two numbers and returns the result.\"\"\"\n",
    "    result = a + b\n",
    "    return result\n",
    "\n",
    "sum_result = add_numbers(5, 3)\n",
    "print(sum_result)"
   ]
  },
  {
   "cell_type": "markdown",
   "id": "8860c5f1",
   "metadata": {},
   "source": [
    "### Default arguments in functions\n",
    "\n",
    "Default arguments allow flexibility in function calls by providing sensible default values, but you can still override those defaults by passing different values as arguments when calling the function.\n",
    "\n",
    "General syntax:\n",
    "\n",
    "```\n",
    "def function_name(parameter1=default_value1, parameter2=default_value2, ...):\n",
    "    \"\"\"Optional docstring describing the function.\"\"\"\n",
    "    # Function body - code statements\n",
    "    # ...\n",
    "    # Optional return statement, if the function should return a value\n",
    "    return value\n",
    "```\n",
    "\n",
    "**!** Note that when using default arguments, parameters with default values should be defined AFTER parameters without default values. Otherwise, you'll get an error `\"SyntaxError: non-default argument follows default argument\"`\n",
    "\n",
    "### Passing values to arguments\n",
    "There are two ways to pass values to arguments - by position and by name. See the example below."
   ]
  },
  {
   "cell_type": "code",
   "execution_count": 8,
   "id": "2f162e10",
   "metadata": {},
   "outputs": [
    {
     "name": "stdout",
     "output_type": "stream",
     "text": [
      "Hi Alice\n",
      "Hello Bob\n",
      "Hi Alice\n",
      "Hi Alice\n"
     ]
    }
   ],
   "source": [
    "# Usage example\n",
    "\n",
    "def greet(name, message=\"Hello\"):\n",
    "    \"\"\"Greets a person with a message.\"\"\"\n",
    "    print(message, name)\n",
    "\n",
    "# Calling the function with both arguments specified\n",
    "greet(\"Alice\", \"Hi\")   # Output: Hi Alice\n",
    "\n",
    "# Calling the function with only the name argument specified (using the default message)\n",
    "greet(\"Bob\")           # Output: Hello Bob\n",
    "\n",
    "# Passing values to arguments\n",
    "# below are two examples of calling function with passing values to arguments by position and name. They are evaluated the same.\n",
    "## by position\n",
    "greet(\"Alice\", \"Hi\")\n",
    "## by name\n",
    "greet(message=\"Hi\", name=\"Alice\")"
   ]
  },
  {
   "cell_type": "markdown",
   "id": "1da8df9a",
   "metadata": {},
   "source": [
    "### Lambda functions\n",
    "\n",
    "Lambda functions in Python are small, anonymous functions that are defined without a name using the `lambda` keyword. \n",
    "Lambdas are useful when you need a quick function to do some work for you.\n",
    "If you plan on creating a function you'll use over and over, you're better off using `def` and giving that function a name.\n",
    "\n",
    "- **Anonymous Functions**: Lambda functions are anonymous because they don't require a name declaration. They are defined inline where they are needed and can be used as expressions within larger code blocks.\n",
    "- **Concise Syntax**: Lambda functions have a compact syntax, allowing you to define them in a single line. They consist of the lambda keyword, followed by the arguments (parameters), a colon (:), and the expression to be evaluated.\n",
    "- **Single Expression**: Lambda functions can only contain a single expression, which is evaluated and returned as the result. They are not suitable for complex logic or multi-line code blocks.\n",
    "- **No Statements**: Unlike regular functions defined with def, lambda functions can't include statements such as if, for, or while. They are limited to a single expression.\n",
    "- **Function Objects**: Lambda functions return function objects that can be assigned to variables or passed as arguments to other functions.\n",
    "\n",
    "#### When to Use Lambda Functions\n",
    "\n",
    "Lambda functions are useful in the following scenarios:\n",
    "- As arguments to higher-order functions.\n",
    "- For short, simple operations that don't require complex logic.\n",
    "\n",
    "#### Pros of Lambda Functions\n",
    "- Concise syntax.\n",
    "- Improved readability for certain cases.\n",
    "\n",
    "#### Cons of Lambda Functions\n",
    "- Limited functionality.\n",
    "- Lack of clarity when overused for complex logic.\n",
    "\n",
    "#### General Syntax of Lambda Functions\n",
    "`lambda arguments: expression`\n",
    "\n",
    "for example, `lambda x: x % 3 == 0`"
   ]
  },
  {
   "cell_type": "code",
   "execution_count": 19,
   "id": "1fb5575a",
   "metadata": {},
   "outputs": [
    {
     "name": "stdout",
     "output_type": "stream",
     "text": [
      "25\n",
      "[2, 4, 6, 8, 10]\n",
      "8\n",
      "6\n",
      "12\n"
     ]
    }
   ],
   "source": [
    "# Examples of using lambda functions\n",
    "\n",
    "## Example 1. Square of a number\n",
    "## In this example, the lambda function square takes a number x as input and returns its square.\n",
    "square = lambda x: x ** 2\n",
    "print(square(5))  # Output: 25\n",
    "\n",
    "## Example 2: Filtering even numbers\n",
    "## Here, the lambda function is used with the filter() function to filter out even numbers from the list.\n",
    "numbers = [1, 2, 3, 4, 5, 6, 7, 8, 9, 10]\n",
    "even_numbers = list(filter(lambda x: x % 2 == 0, numbers))\n",
    "print(even_numbers)  # Output: [2, 4, 6, 8, 10]\n",
    "\n",
    "## Example 4: Mathematical operations\n",
    "## In this example, lambda functions are used to perform basic arithmetic operations.\n",
    "add = lambda x, y: x + y\n",
    "subtract = lambda x, y: x - y\n",
    "multiply = lambda x, y: x * y\n",
    "\n",
    "print(add(5, 3))       # Output: 8\n",
    "print(subtract(10, 4))  # Output: 6\n",
    "print(multiply(2, 6))   # Output: 12"
   ]
  },
  {
   "cell_type": "markdown",
   "id": "2b5734ec",
   "metadata": {},
   "source": [
    "#### Lambda with Map\n",
    "`map()` is a higher-order built-in function that takes a *function* and *iterable* as inputs, and returns an iterator that applies the function to each element of the iterable. "
   ]
  },
  {
   "cell_type": "code",
   "execution_count": 24,
   "id": "7a66bc52",
   "metadata": {},
   "outputs": [
    {
     "name": "stdout",
     "output_type": "stream",
     "text": [
      "[77.0, 86.0, 59.0, 68.0, 50.0]\n",
      "[1, 4, 9, 16, 25]\n",
      "[57.0, 58.2, 50.6, 27.2]\n"
     ]
    }
   ],
   "source": [
    "# Example 1: Converting temperatures from Celsius to Fahrenheit\n",
    "## In this example, the lambda function is used with map() to convert a list of temperatures from Celsius to Fahrenheit.\n",
    "celsius_temperatures = [25, 30, 15, 20, 10]\n",
    "fahrenheit_temperatures = list(map(lambda c: (c * 9/5) + 32, celsius_temperatures))\n",
    "print(fahrenheit_temperatures)\n",
    "\n",
    "\n",
    "# Example 2: Squaring elements of a list\n",
    "## Here, the lambda function is used with map() to calculate the square of each element in the list.\n",
    "numbers = [1, 2, 3, 4, 5]\n",
    "squared_numbers = list(map(lambda x: x**2, numbers))\n",
    "print(squared_numbers)\n",
    "\n",
    "\n",
    "# Example 3: Calculating the mean of each element of a list\n",
    "## The code below uses `map()` to find the mean of each list in numbers to create the list averages.\n",
    "numbers = [\n",
    "              [34, 63, 88, 71, 29],\n",
    "              [90, 78, 51, 27, 45],\n",
    "              [63, 37, 85, 46, 22],\n",
    "              [51, 22, 34, 11, 18]\n",
    "           ]\n",
    "averages = list(map(lambda num_list: sum(num_list) / len(num_list), numbers))\n",
    "print(averages)"
   ]
  },
  {
   "cell_type": "markdown",
   "id": "baa77779",
   "metadata": {},
   "source": [
    "#### Lambda with Filter\n",
    "`filter()` is a higher-order built-in function that takes a *function* and *iterable* as inputs and returns an iterator with the elements from the iterable for which the function returns True."
   ]
  },
  {
   "cell_type": "code",
   "execution_count": 28,
   "id": "5613b42b",
   "metadata": {},
   "outputs": [
    {
     "name": "stdout",
     "output_type": "stream",
     "text": [
      "cities =  ['New York City', 'Los Angeles', 'Chicago', 'Mountain View', 'Denver', 'Boston']\n",
      "short_cities =  ['Chicago', 'Denver', 'Boston']\n",
      "['Charlie', 'Carolin']\n"
     ]
    }
   ],
   "source": [
    "# Example 1: Filtering city names by length\n",
    "## The code below uses filter() to get the names in cities that are fewer than 10 characters long to create the list short_cities.\n",
    " \n",
    "cities = [\"New York City\", \"Los Angeles\", \"Chicago\", \"Mountain View\", \"Denver\", \"Boston\"]\n",
    "short_cities = list(filter(lambda city: len(city) < 10, cities))\n",
    "print(\"cities = \", cities)\n",
    "print(\"short_cities = \", short_cities)\n",
    "\n",
    "\n",
    "# Example 2: Filtering names starting with a specific letter\n",
    "## In this example, the lambda function is used with filter() to filter out names that start with the specified letter (\"C\" in this case) from the list.\n",
    "names = [\"Alice\", \"Bob\", \"Charlie\", \"David\", \"Ella\", \"Frank\", \"Carolin\"]\n",
    "letter = \"C\"\n",
    "filtered_names = list(filter(lambda name: name.startswith(letter), names))\n",
    "print(filtered_names)"
   ]
  },
  {
   "cell_type": "markdown",
   "id": "60ce72d8",
   "metadata": {},
   "source": [
    "## Dictionary\n",
    "\n",
    "A dictionary in Python is an unordered collection of key-value pairs. It is a versatile data structure that allows you to store, retrieve, and manipulate data based on unique keys.\n",
    "\n",
    "Dictionaries are commonly used to represent data with a key-value relationship, such as settings, mappings, or lookup tables, where efficient access to values based on unique keys is required.\n",
    "\n",
    "Values can be of any type.\n",
    "A key can be any string or number.\n",
    "\n",
    "- **Key-Value Pairs**: Dictionaries consist of key-value pairs enclosed in curly braces {}. Each key is unique within the dictionary and is associated with a corresponding value. The key-value pairs are separated by colons (:) and individual pairs are separated by commas (,). The keys and values can be of any valid data type in Python.\n",
    "- **Unordered**: Dictionaries are unordered, meaning that the items are not stored in any specific order. The key-value pairs can be accessed and manipulated using their keys rather than their positions.\n",
    "- **Mutable**: Dictionaries are mutable, allowing you to modify, add, or remove key-value pairs after the dictionary is created.\n",
    "- **Flexible Value Types**: The values in a dictionary can be of any data type (e.g., integers, strings, lists, other dictionaries, etc.), and different keys within the same dictionary can have values of different types.\n",
    "- **Fast Access**: Dictionaries provide fast access to values based on their keys using an underlying hash table implementation.\n",
    "\n",
    "#### General syntax\n",
    "```\n",
    "my_dict = {\n",
    "    key1: value1,\n",
    "    key2: value2,\n",
    "    key3: value3,\n",
    "    ...\n",
    "}\n",
    "```\n",
    "\n",
    "Example - dictionary that maps students' names to their corresponding ages \n",
    "```\n",
    "student_ages = {\n",
    "    \"Alice\": 20,\n",
    "    \"Bob\": 22,\n",
    "    \"Charlie\": 19,\n",
    "    \"David\": 21\n",
    "}\n",
    "```"
   ]
  },
  {
   "cell_type": "code",
   "execution_count": 29,
   "id": "469d6fe5",
   "metadata": {},
   "outputs": [],
   "source": [
    "# Ways to create dictionary\n",
    "\n",
    "## Case 1: Using curly braces {} and key-value pairs:\n",
    "my_dict = {'key1': 'value1', 'key2': 'value2', 'key3': 'value3'}\n",
    "\n",
    "## Case 2: Using the dict() constructor and keyword arguments:\n",
    "my_dict = dict(key1='value1', key2='value2', key3='value3')\n",
    "\n",
    "## Case 3: Using the dict() constructor and a list of tuples representing key-value pairs:\n",
    "my_dict = dict([('key1', 'value1'), ('key2', 'value2'), ('key3', 'value3')])\n",
    "\n",
    "## Case 4: Using dictionary comprehensions:\n",
    "my_dict = {key: value for key, value in [('key1', 'value1'), ('key2', 'value2'), ('key3', 'value3')]}\n",
    "\n",
    "## Case 5: Using the zip() function with two lists representing keys and values:\n",
    "keys = ['key1', 'key2', 'key3']\n",
    "values = ['value1', 'value2', 'value3']\n",
    "my_dict = dict(zip(keys, values))"
   ]
  },
  {
   "cell_type": "code",
   "execution_count": 35,
   "id": "153ae57a",
   "metadata": {},
   "outputs": [
    {
     "name": "stdout",
     "output_type": "stream",
     "text": [
      "{'Alice': 20, 'Bob': 22, 'Charlie': 19, 'David': 21}\n",
      "{'Alice': 20, 'Bob': 25, 'Charlie': 19, 'David': 21}\n",
      "{'Alice': 20, 'Bob': 25, 'Charlie': 19, 'David': 21, 'Felix': 35}\n"
     ]
    }
   ],
   "source": [
    "# add a new or update an existing element in the dictionary\n",
    "# dict_name[new_key] = new_value\n",
    "\n",
    "student_ages = {\n",
    "    \"Alice\": 20,\n",
    "    \"Bob\": 22,\n",
    "    \"Charlie\": 19,\n",
    "    \"David\": 21\n",
    "}\n",
    "print(student_ages)\n",
    "\n",
    "# Change age of Bob from 22 to 25\n",
    "student_ages['Bob'] = 25\n",
    "print(student_ages)\n",
    "\n",
    "# Add a new student Felix of 35 years old\n",
    "student_ages['Felix'] = 35\n",
    "print(student_ages)"
   ]
  },
  {
   "cell_type": "markdown",
   "id": "fe7b6396",
   "metadata": {},
   "source": [
    "#### Basic dictionary methods\n",
    "\n",
    "- `clear()`: Removes all key-value pairs from the dictionary, making it empty.\n",
    "- `get(key[, default])`: Returns the value associated with the given key. If the key is not found, it returns the optional default value (or None if not provided).\n",
    "- `keys()`: Returns a view object containing all the keys in the dictionary.\n",
    "- `values()`: Returns a view object containing all the values in the dictionary.\n",
    "- `items()`: Returns a view object containing all the key-value pairs in the dictionary as tuples.\n",
    "- `pop(key[, default])`: Removes and returns the value associated with the given key. If the key is not found, it returns the optional default value (or raises a KeyError if not provided).\n",
    "- `popitem()`: Removes the item that was last inserted into the dictionary. In versions before 3.7, the popitem() method removes a random item. Raises a `KeyError` if the dictionary is empty. \n",
    "- `update(iterable)`: Updates the dictionary by adding key-value pairs from the given iterable (such as another dictionary or a list of tuples)."
   ]
  },
  {
   "cell_type": "code",
   "execution_count": 44,
   "id": "19557be8",
   "metadata": {},
   "outputs": [
    {
     "name": "stdout",
     "output_type": "stream",
     "text": [
      "key1 value1\n",
      "key2 value2\n",
      "key3 value3\n",
      "a apple\n",
      "b berry\n",
      "c cherry\n",
      "key1\n",
      "key2\n",
      "key3\n",
      "key1\n",
      "key2\n",
      "key3\n",
      "value1\n",
      "value2\n",
      "value3\n"
     ]
    }
   ],
   "source": [
    "# Iterating over dictionary\n",
    "\n",
    "## iterating over keys and values\n",
    "### var1\n",
    "my_dict = {'key1': 'value1', 'key2': 'value2', 'key3': 'value3'}\n",
    "for key, value in my_dict.items():\n",
    "    print(key, value)\n",
    "### var2\n",
    "d = {'a': 'apple', 'b': 'berry', 'c': 'cherry'}\n",
    "for key in d:\n",
    "    print(key, d[key])\n",
    "\n",
    "## iterating over keys\n",
    "### var1\n",
    "my_dict = {'key1': 'value1', 'key2': 'value2', 'key3': 'value3'}\n",
    "for key in my_dict:\n",
    "    print(key)\n",
    "\n",
    "### var2\n",
    "my_dict = {'key1': 'value1', 'key2': 'value2', 'key3': 'value3'}\n",
    "for key in my_dict.keys():\n",
    "    print(key)\n",
    "\n",
    "## iterating over values\n",
    "my_dict = {'key1': 'value1', 'key2': 'value2', 'key3': 'value3'}\n",
    "for value in my_dict.values():\n",
    "    print(value)"
   ]
  },
  {
   "cell_type": "markdown",
   "id": "4768730a",
   "metadata": {},
   "source": [
    "#### Examples of using dictionary basic methods"
   ]
  },
  {
   "cell_type": "code",
   "execution_count": 53,
   "id": "80a84a96",
   "metadata": {},
   "outputs": [
    {
     "name": "stdout",
     "output_type": "stream",
     "text": [
      "{'Alice': 20, 'Bob': 22, 'Charlie': 19, 'David': 21}\n",
      "{'Alice': 20, 'Bob': 22, 'Charlie': 19}\n"
     ]
    }
   ],
   "source": [
    "## Deleting element from dictionary\n",
    "# del dict_name[key_name]\n",
    "# will remove the key key_name and its associated value from the dictionary.\n",
    "\n",
    "student_ages = {\n",
    "    \"Alice\": 20,\n",
    "    \"Bob\": 22,\n",
    "    \"Charlie\": 19,\n",
    "    \"David\": 21\n",
    "}\n",
    "print(student_ages)\n",
    "\n",
    "del student_ages[\"David\"]\n",
    "print(student_ages)"
   ]
  },
  {
   "cell_type": "code",
   "execution_count": 52,
   "id": "2a92c17c",
   "metadata": {},
   "outputs": [
    {
     "name": "stdout",
     "output_type": "stream",
     "text": [
      "{'key1': 'value1', 'key2': 'value2'}\n",
      "{}\n"
     ]
    }
   ],
   "source": [
    "## clear(): Removes all key-value pairs from the dictionary, making it empty.\n",
    "my_dict = {'key1': 'value1', 'key2': 'value2'}\n",
    "print(my_dict)\n",
    "my_dict.clear()\n",
    "print(my_dict)  # Output: {}"
   ]
  },
  {
   "cell_type": "code",
   "execution_count": 57,
   "id": "f9f24e1d",
   "metadata": {},
   "outputs": [
    {
     "name": "stdout",
     "output_type": "stream",
     "text": [
      "value1\n",
      "None\n",
      "not found\n"
     ]
    }
   ],
   "source": [
    "## get(key[, default]): Returns the value associated with the given key. \n",
    "# If the key is not found, it returns the optional default value (or None if not provided).\n",
    "\n",
    "my_dict = {'key1': 'value1', 'key2': 'value2'}\n",
    "value = my_dict.get('key1')\n",
    "print(value)  # Output: 'value1'\n",
    "\n",
    "value2 = my_dict.get('key5')\n",
    "print(value2)  # Output: 'None'\n",
    "\n",
    "value3 = my_dict.get('key7', \"not found\")\n",
    "print(value3)  # Output: 'not found'"
   ]
  },
  {
   "cell_type": "code",
   "execution_count": 58,
   "id": "dd04abc2",
   "metadata": {},
   "outputs": [
    {
     "name": "stdout",
     "output_type": "stream",
     "text": [
      "dict_keys(['key1', 'key2'])\n"
     ]
    }
   ],
   "source": [
    "## keys(): Returns a view object containing all the keys in the dictionary.\n",
    "my_dict = {'key1': 'value1', 'key2': 'value2'}\n",
    "keys = my_dict.keys()\n",
    "print(keys)  # Output: dict_keys(['key1', 'key2'])"
   ]
  },
  {
   "cell_type": "code",
   "execution_count": 59,
   "id": "d48dc579",
   "metadata": {},
   "outputs": [
    {
     "name": "stdout",
     "output_type": "stream",
     "text": [
      "dict_values(['value1', 'value2'])\n"
     ]
    }
   ],
   "source": [
    "## values(): Returns a view object containing all the values in the dictionary.\n",
    "my_dict = {'key1': 'value1', 'key2': 'value2'}\n",
    "values = my_dict.values()\n",
    "print(values)  # Output: dict_values(['value1', 'value2'])"
   ]
  },
  {
   "cell_type": "code",
   "execution_count": 60,
   "id": "038de1a7",
   "metadata": {},
   "outputs": [
    {
     "name": "stdout",
     "output_type": "stream",
     "text": [
      "dict_items([('key1', 'value1'), ('key2', 'value2')])\n"
     ]
    }
   ],
   "source": [
    "## items(): Returns a view object containing all the key-value pairs in the dictionary as tuples.\n",
    "my_dict = {'key1': 'value1', 'key2': 'value2'}\n",
    "items = my_dict.items()\n",
    "print(items)  # Output: dict_items([('key1', 'value1'), ('key2', 'value2')])"
   ]
  },
  {
   "cell_type": "code",
   "execution_count": 64,
   "id": "7ca40d22",
   "metadata": {},
   "outputs": [
    {
     "name": "stdout",
     "output_type": "stream",
     "text": [
      "value1\n",
      "None\n"
     ]
    }
   ],
   "source": [
    "## pop(key[, default]): Removes and returns the value associated with the given key. \n",
    "# If the key is not found, it returns the optional default value (or raises a KeyError if not provided).\n",
    "my_dict = {'key1': 'value1', 'key2': 'value2'}\n",
    "value = my_dict.pop('key1')\n",
    "print(value)  # Output: 'value1'\n",
    "\n",
    "value2 = my_dict.pop('key7', None)\n",
    "print(value2)  # Output: 'None'"
   ]
  },
  {
   "cell_type": "code",
   "execution_count": 69,
   "id": "18372184",
   "metadata": {},
   "outputs": [
    {
     "name": "stdout",
     "output_type": "stream",
     "text": [
      "('key2', 'value2')\n"
     ]
    }
   ],
   "source": [
    "## popitem(): Removes the item that was last inserted into the dictionary. \n",
    "# In versions before 3.7, the popitem() method removes a random item. Raises a KeyError if the dictionary is empty.\n",
    "my_dict = {'key1': 'value1', 'key2': 'value2'}\n",
    "item = my_dict.popitem()\n",
    "print(item)  # Output: ('key2', 'value2')"
   ]
  },
  {
   "cell_type": "code",
   "execution_count": 70,
   "id": "24ef3ceb",
   "metadata": {},
   "outputs": [
    {
     "name": "stdout",
     "output_type": "stream",
     "text": [
      "{'key1': 'value1', 'key2': 'value2', 'key3': 'value3'}\n"
     ]
    }
   ],
   "source": [
    "## update(iterable): Updates the dictionary by adding key-value pairs from the given iterable \n",
    "# (such as another dictionary or a list of tuples).\n",
    "my_dict = {'key1': 'value1'}\n",
    "my_dict.update({'key2': 'value2', 'key3': 'value3'})\n",
    "print(my_dict)  # Output: {'key1': 'value1', 'key2': 'value2', 'key3': 'value3'}"
   ]
  },
  {
   "cell_type": "markdown",
   "id": "bb40ffe7",
   "metadata": {},
   "source": [
    "## Compound Data Structures\n",
    "They can also be referred to as nested data structures.\n",
    "\n",
    "Compound data structures can be nested within one another, allowing for more complex data organization.\n",
    "They provide powerful tools for storing, accessing, and manipulating data in various formats and scenarios."
   ]
  },
  {
   "cell_type": "code",
   "execution_count": 78,
   "id": "b847950d",
   "metadata": {},
   "outputs": [
    {
     "name": "stdout",
     "output_type": "stream",
     "text": [
      "helium = {'number': 2, 'weight': 4.002602, 'symbol': 'He'}\n",
      "hydrogen_weight =  1.00794\n"
     ]
    }
   ],
   "source": [
    "# For example, this dictionary maps keys to values that are also dictionaries.\n",
    "\n",
    "elements = {\"hydrogen\": {\"number\": 1,\n",
    "                         \"weight\": 1.00794,\n",
    "                         \"symbol\": \"H\"},\n",
    "              \"helium\": {\"number\": 2,\n",
    "                         \"weight\": 4.002602,\n",
    "                         \"symbol\": \"He\"}}\n",
    "\n",
    "# We can access elements in this nested dictionary like this:\n",
    "helium = elements[\"helium\"]  # get the helium dictionary\n",
    "hydrogen_weight = elements[\"hydrogen\"][\"weight\"]  # get hydrogen's weight\n",
    "\n",
    "print(\"helium =\", helium)\n",
    "print(\"hydrogen_weight = \", hydrogen_weight)"
   ]
  },
  {
   "cell_type": "markdown",
   "id": "dd6ae58e",
   "metadata": {},
   "source": [
    "### Operator IN\n",
    "\n",
    "For iterating over lists, tuples, dictionaries, and strings, Python also includes a special keyword: `in`. \n",
    "It can also be used to check if an element is present in a sequence (such as a string, list, tuple, or set) or a container object (such as a dictionary)."
   ]
  },
  {
   "cell_type": "code",
   "execution_count": 75,
   "id": "65b18390",
   "metadata": {},
   "outputs": [
    {
     "name": "stdout",
     "output_type": "stream",
     "text": [
      "0\n",
      "1\n",
      "2\n",
      "3\n",
      "4\n",
      "name Eric\n",
      "age 26\n",
      "E\n",
      "r\n",
      "i\n",
      "c\n",
      "3 is present in the list\n",
      "True\n"
     ]
    }
   ],
   "source": [
    "# `in` for iterating\n",
    "\n",
    "for number in range(5):\n",
    "    print(number)\n",
    "\n",
    "d = { \"name\": \"Eric\", \"age\": 26 }\n",
    "for key in d:\n",
    "    print(key, d[key])\n",
    "\n",
    "for letter in \"Eric\":\n",
    "    print(letter)\n",
    "\n",
    "    \n",
    "# `in` for checking element presence in iterable\n",
    "numbers = [1, 2, 3, 4, 5]\n",
    "if 3 in numbers:\n",
    "    print(\"3 is present in the list\")\n",
    "\n",
    "print(3 in numbers) #Output: True"
   ]
  },
  {
   "cell_type": "markdown",
   "id": "a666e760",
   "metadata": {},
   "source": [
    "## Equality vs. Identity\n",
    "\n",
    "In Python, the concepts of **equality** and **identity** are related to comparing objects and determining their relationships. The key differences between **equality** and **identity** are as follows:\n",
    "\n",
    "**Equality (`==`):**\n",
    "\n",
    "- The equality operator (`==`) compares the values of two objects to check if they are the same.\n",
    "- It checks if the content or attributes of the objects are equivalent.\n",
    "- The `==` operator returns **`True`** if the values are equal and **`False`** otherwise.\n",
    "- The comparison is based on the comparison methods (`__eq__()` or `__cmp__()`) defined by the objects being compared.\n",
    "\n",
    "\n",
    "**Identity (`is`)**:\n",
    "\n",
    "- The identity operator (**`is`**) compares the memory addresses of two objects to check if they refer to the same object.\n",
    "- It checks if two objects are the exact same object in memory.\n",
    "- The **`is`** operator returns **`True`** if the objects have the same memory address and **`False`** otherwise.\n",
    "- The comparison is based on the memory address of the objects.\n",
    "\n",
    "In the example below, `a` and `b` have the same content, so they are considered equal (`==`), but they are distinct objects with different memory addresses, so their identities (`is`) are different. On the other hand, `a` and `c` refer to the same object, so their identities (`is`) are the same.\n",
    "\n",
    "In summary, equality (`==`) compares the values or content of objects, while identity (`is`) compares the memory addresses or references of objects to determine if they are the same object in memory."
   ]
  },
  {
   "cell_type": "code",
   "execution_count": 73,
   "id": "a7af6735",
   "metadata": {},
   "outputs": [
    {
     "name": "stdout",
     "output_type": "stream",
     "text": [
      "True\n",
      "False\n",
      "True\n"
     ]
    }
   ],
   "source": [
    "# an example to illustrate the difference between equality and identity:\n",
    "a = [1, 2, 3]\n",
    "b = [1, 2, 3]\n",
    "c = a\n",
    "\n",
    "print(a == b)  # Output: True (equality, as the content is the same)\n",
    "print(a is b)  # Output: False (identity, as they are different objects)\n",
    "print(a is c)  # Output: True (identity, as they refer to the same object)"
   ]
  },
  {
   "cell_type": "markdown",
   "id": "563b893b",
   "metadata": {},
   "source": [
    "## Errors and exceptions\n",
    "\n",
    "There are two kinds of errors in Python - syntax errors and exceptions. \n",
    "Syntax errors occur when you don't use correct syntax and Python doesn't know how to run your code. \n",
    "Exceptions occur when Python runs into unexpected situations while executing your code and can happen even if you used correct syntax.\n",
    "\n",
    "### Try Statement\n",
    "`try` statements can be used to handle exceptions. \n",
    "There are four clauses you can use\n",
    "- `try`: This is the only mandatory clause in a `try` statement. The code in this block is the first thing that Python runs in a try statement.\n",
    "- `except`: If Python runs into an exception while running the try block, it will jump to the exceptblock that handles that exception.\n",
    "- `else`: If Python runs into no exceptions while running the `try` block, it will run the code in this block after running the `try` block.\n",
    "- `finally`: Before Python leaves this try statement, it will run the code in this finally block under any conditions, even if it's ending the program. E.g., if Python ran into an error while running code in the `except` or `else` block, this finally block will still be executed before stopping the program.\n",
    "\n",
    "\n",
    "### Specifying Exceptions\n",
    "We can specify which error we want to handle in an except block like this:\n",
    "```\n",
    "try:\n",
    "    # some code\n",
    "except ValueError:\n",
    "    # some code\n",
    "```\n",
    "In this example, it catches only the ValueError exception, but not other exceptions. \n",
    "In order for this handler to address more than one type of exception, we can specify them after the `except` as follows.\n",
    "```\n",
    "try:\n",
    "    # some code\n",
    "except ValueError, KeyboardInterrupt:\n",
    "    # some code\n",
    "```\n",
    "Or, if different blocks of code need to be executed depending on the exception, we can add multiple except blocks.\n",
    "```\n",
    "try:\n",
    "    # some code\n",
    "except ValueError:\n",
    "    # some code\n",
    "except KeyboardInterrupt:\n",
    "    # some code\n",
    "```\n",
    "\n",
    "### Accessing Error Messages\n",
    "\n",
    "When handling an exception, you can access its error message like this:\n",
    "```\n",
    "try:\n",
    "    # some code\n",
    "except ZeroDivisionError as e:\n",
    "   # some code\n",
    "   print(\"ZeroDivisionError occurred: {}\".format(e))\n",
    "```\n",
    "This would print something like this:\n",
    "`ZeroDivisionError occurred: integer division or modulo by zero`\n",
    "\n",
    "So you can still access error messages, even if you handle them to keep your program from crashing.\n",
    "If you don't have a specific error you're handling, you can still access the message like this:\n",
    "```\n",
    "try:\n",
    "    # some code\n",
    "except Exception as e:\n",
    "   # some code\n",
    "   print(\"Exception occurred: {}\".format(e))\n",
    "```"
   ]
  },
  {
   "cell_type": "code",
   "execution_count": 112,
   "id": "de2f84dd",
   "metadata": {},
   "outputs": [
    {
     "name": "stdout",
     "output_type": "stream",
     "text": [
      "Error: Division by zero is not allowed.\n",
      "Exception occurred: division by zero\n"
     ]
    }
   ],
   "source": [
    "# practice examples with handling exceptions\n",
    "\n",
    "## Example 1: Handling Division by Zero\n",
    "try:\n",
    "    print(1/0)\n",
    "except ZeroDivisionError as e:\n",
    "    print(\"Error: Division by zero is not allowed.\")\n",
    "    print(\"Exception occurred: {}\".format(e))\n",
    "\n",
    "# if try to execute print(1/0) without 'try' block it will cause the 'ZeroDivisionError' exception"
   ]
  },
  {
   "cell_type": "markdown",
   "id": "1cb35a58",
   "metadata": {},
   "source": [
    "## Modules, Packages, and Names\n",
    "\n",
    "In order to manage the code better, **modules** in the Python Standard Library are split down into **sub-modules** that are contained within a **package**. A **package** is simply a **module** that contains **sub-modules**. A **sub-module** is specified with the usual dot notation.\n",
    "**Modules** that are **submodules** are specified by the **package** name and then the **submodule** name separated by a dot. \n",
    "\n",
    "You can import the submodule like this.\n",
    "`import package_name.submodule_name`\n",
    "\n",
    "\n",
    "\n",
    "## Importing modules\n",
    "\n",
    "\n",
    "In Python, the `import` statement is used to bring modules or specific attributes from modules into the current program's namespace. It allows you to access the functionality and variables defined in other modules, extending the capabilities of your code.\n",
    "\n",
    "### Import Statement:\n",
    "\n",
    "- The `import` statement is used to import modules or specific attributes from modules into the current namespace.\n",
    "- It allows you to access functions, classes, variables, and other resources defined in the imported module.\n",
    "- The `import` statement provides a way to organize code into separate modules, promoting code reusability and maintainability.\n",
    "\n",
    "### Existing Ways of Importing\n",
    "\n",
    "#### Importing Entire Modules:\n",
    "In this example, the entire `math` module is imported, giving access to all its functions and attributes. The `sqrt()` function from the `math` module is used to calculate the square root of 25.\n",
    "```\n",
    "import math\n",
    "\n",
    "print(math.sqrt(25))  # Output: 5.0\n",
    "```\n",
    "\n",
    "#### Importing Specific Attributes:\n",
    "In this example, only the `sqrt()` function and the `pi` attribute are imported from the math module. This allows direct usage of those specific attributes without having to reference the module name.\n",
    "```\n",
    "from math import sqrt, pi\n",
    "\n",
    "print(sqrt(25))  # Output: 5.0\n",
    "print(pi)  # Output: 3.141592653589793\n",
    "```\n",
    "\n",
    "#### Importing with an Alias:\n",
    "In this example, the numpy module is imported with the alias np. The np alias is used as a shorthand for referring to the numpy module in the code.\n",
    "```\n",
    "import numpy as np\n",
    "\n",
    "data = np.array([1, 2, 3, 4, 5])\n",
    "print(data)  # Output: [1 2 3 4 5]\n",
    "```"
   ]
  },
  {
   "cell_type": "markdown",
   "id": "d17c65ab",
   "metadata": {},
   "source": [
    "## File Input/Output\n",
    "\n",
    "In Python, file input/output (I/O) refers to the operations of reading from and writing to files on a storage device. File I/O allows you to interact with files, store data, retrieve data, and manipulate file contents. \n",
    "\n",
    "File I/O in Python involves opening a file, performing operations on it (such as reading or writing data), and then closing the file. Python provides built-in functions and methods to handle file operations.\n",
    "\n",
    "\n",
    "### Methods to Work with Files\n",
    "\n",
    "#### Opening a File \n",
    "To open a file, you can use the built-in `open()` function, which takes the file path and the mode as parameters. The mode can be `\"r\"` for reading, `\"w\"` for writing, `\"a\"` for appending, and more.\n",
    "\n",
    "Example:\n",
    "```\n",
    "file = open(\"example.txt\", \"r\")\n",
    "```\n",
    "\n",
    "\n",
    "#### Reading from a File\n",
    "To read data from a file, you can use methods like `read()`, `readline()`, or `readlines()`.\n",
    "\n",
    "**`read()` Method**:\n",
    "- The `read()` method reads the entire content of a file and returns it as a single string.\n",
    "- It reads from the current position of the file pointer until the end of the file.\n",
    "- If you don't specify the number of characters to read, it reads the entire content.\n",
    "- The returned string includes newline characters (`\\n`) representing line breaks in the file.\n",
    "\n",
    "**`readline()` Method**:\n",
    "- The `readline()` method reads a single line from the file and returns it as a string.\n",
    "- It reads from the current position of the file pointer until it encounters a newline character (`\\n`) or reaches the end of the line.\n",
    "- Each time you call `readline()`, it moves the file pointer to the next line.\n",
    "- If the file pointer is already at the end of the file, it returns an empty string.\n",
    "\n",
    "**`readlines()` Method**:\n",
    "- The `readlines()` method reads all lines from the file and returns them as a list of strings.\n",
    "- It reads from the current position of the file pointer until the end of the file.\n",
    "- Each line in the list includes the newline character (`\\n`) at the end, except for the last line.\n",
    "- You can iterate over the returned list to access each line individually.\n",
    "\n",
    "In summary, the `read()` method returns the entire file content as a single string, the `readline()` method reads one line at a time, and the `readlines()` method returns all lines as a list of strings. \n",
    "The choice between them depends on your specific needs. \n",
    "- Use `read()` when you want the entire content as a single string\n",
    "- Use `readline()` when you want to read lines one by one\n",
    "- Use `readlines()` when you want to access the content as a list of lines.\n",
    "\n",
    "##### Reading the Entire File\n",
    "In this example, the `read()` method is used to read the entire content of the file named `\"example.txt\"`. The content is stored in the `content` variable and then printed.\n",
    "```\n",
    "file = open(\"example.txt\", \"r\")\n",
    "content = file.read()\n",
    "print(content)\n",
    "file.close()\n",
    "```\n",
    "\n",
    "##### Reading a Specific Number of Characters\n",
    "When passing the `read` method an integer argument, it will read up to that number of characters, output all of them, and keep the 'window' at that position ready to read on.\n",
    "\n",
    "Here, the `read()` method is called with an argument of `10`, indicating that only the first 10 characters of the file should be read and stored in the `content` variable.\n",
    "```\n",
    "with open(\"example.txt\", \"r\") as file:\n",
    "    content = file.read(10)\n",
    "    print(content)\n",
    "```\n",
    "\n",
    "##### Reading the File Line by Line using `for` loop\n",
    "In this example, the file is read line by line using a `for` loop. Each line is printed as it is read from the file.\n",
    "```\n",
    "with open(\"example.txt\", \"r\") as file:\n",
    "    for line in file:\n",
    "        print(line)\n",
    "```\n",
    "\n",
    "##### Reading the File Line by Line using `readline()` method\n",
    "On the first call, `readline()` will read the first line in the file. One the second call - the second line, and so on.\n",
    "```\n",
    "my_file = open(\"text.txt\", \"r\")\n",
    "print my_file.readline()\n",
    "print my_file.readline()\n",
    "print my_file.readline()\n",
    "my_file.close()\n",
    "```\n",
    "\n",
    "##### Reading the File using `readlines()` method\n",
    "- The `readlines()` method reads the content of a file and returns it as a list of strings, where each string represents a line in the file.\n",
    "- It reads from the current position of the file pointer until the end of the file.\n",
    "- Each line in the list includes the newline character (`\\n`) at the end, except for the last line.\n",
    "- You can iterate over the returned list to access each line individually.\n",
    "```\n",
    "with open(\"example.txt\", \"r\") as file:\n",
    "    lines = file.readlines()\n",
    "    for line in lines:\n",
    "        print(line)\n",
    "```\n",
    "\n",
    "#### Writing to a File\n",
    "To write data to a file, you can use the `write()` method. If the file doesn't exist, it will be created.\n",
    "\n",
    "Example:\n",
    "```\n",
    "file = open(\"example.txt\", \"w\")\n",
    "file.write(\"Hello, world!\")\n",
    "file.close()\n",
    "```\n",
    "\n",
    "#### Appending to a File\n",
    "To append data to an existing file, you can use the `write()` method with the mode set to `\"a\"`.\n",
    "\n",
    "Example:\n",
    "```\n",
    "file = open(\"example.txt\", \"a\")\n",
    "file.write(\"This is an additional line.\")\n",
    "file.close()\n",
    "```\n",
    "\n",
    "#### Closing a File\n",
    "It's important to close a file after performing operations on it using the `close()` method. This ensures that resources are released and the file is properly saved.\n",
    "\n",
    "Example:\n",
    "```\n",
    "file = open(\"example.txt\", \"r\")\n",
    "# Perform operations on the file\n",
    "file.close()\n",
    "```\n",
    "\n",
    "#### Using `with` statement\n",
    "It's recommended to use the `with` statement for file operations, as it allows you to open a file, do operations on it, and **automatically** close it after the indented code is executed.\n",
    "```\n",
    "with open(\"example.txt\", \"r\") as file:\n",
    "    content = file.read()\n",
    "    print(content)\n",
    "```\n",
    "\n",
    "### File attributes\n",
    "- `file.closed` - Returns true if file is closed, false otherwise.\n",
    "- `file.mode` - Returns access mode with which file was opened.\n",
    "- `file.name` - Returns name of the file.\n",
    "\n"
   ]
  },
  {
   "cell_type": "code",
   "execution_count": 24,
   "id": "d7abb2c5",
   "metadata": {},
   "outputs": [
    {
     "name": "stdout",
     "output_type": "stream",
     "text": [
      "Hello, world!\n",
      "This is an additional line.\n",
      "Yet another additional line.\n",
      "Hello, world!\n",
      "\n",
      "This is an additional line.\n",
      "\n",
      "Yet another additional line.\n",
      "Hello, world!\n",
      "\n",
      "This is an additional line.\n",
      "\n",
      "Yet another additional line.\n",
      "['Hello, world!\\n', 'This is an additional line.\\n', 'Yet another additional line.']\n",
      "Hello, world!\n",
      "\n",
      "This is an additional line.\n",
      "\n",
      "Yet another additional line.\n",
      "True\n",
      "r\n",
      "test.txt\n"
     ]
    }
   ],
   "source": [
    "# Practice examples with files\n",
    "\n",
    "## Creating file and adding text to it\n",
    "file = open(\"test.txt\", \"w\")\n",
    "file.write(\"Hello, world!\\n\")\n",
    "file.close()\n",
    "\n",
    "## Appending to the file by adding new text lines\n",
    "file = open(\"test.txt\", \"a\")\n",
    "file.write(\"This is an additional line.\\n\")\n",
    "file.write(\"Yet another additional line.\")\n",
    "file.close()\n",
    "\n",
    "## Reading and printing the whole contents of the file\n",
    "with open(\"test.txt\", \"r\") as file:\n",
    "    content = file.read()\n",
    "    print(content)\n",
    "\n",
    "## Reading the file Line by Line using readline() method\n",
    "my_file = open(\"test.txt\", \"r\")\n",
    "print(my_file.readline())\n",
    "print(my_file.readline())\n",
    "print(my_file.readline())\n",
    "my_file.close()\n",
    "    \n",
    "## Reading the file Line by Line using 'for' loop\n",
    "with open(\"test.txt\", \"r\") as file:\n",
    "    for line in file:\n",
    "        print(line)\n",
    "\n",
    "## Readling the file using readlines() method\n",
    "with open(\"test.txt\", \"r\") as file:\n",
    "    lines = file.readlines()\n",
    "    print(lines)\n",
    "    for line in lines:\n",
    "        print(line)\n",
    "\n",
    "## Printing file attributes\n",
    "print(file.closed)\n",
    "print(file.mode)\n",
    "print(file.name)"
   ]
  },
  {
   "cell_type": "markdown",
   "id": "779daef1",
   "metadata": {},
   "source": [
    "## Classes\n",
    "\n",
    "In Python, classes provide a way to define new types or objects with their own attributes (variables) and methods (functions). They serve as blueprints for creating objects with specific characteristics and behaviors.\n",
    "\n",
    "- A class is a user-defined data type that encapsulates data and methods into a single entity.\n",
    "- It allows you to define a blueprint or template for creating objects that share similar properties and behaviors.\n",
    "- Objects created from a class are called instances or objects of that class.\n",
    "- Classes provide encapsulation, inheritance, and polymorphism, which are fundamental concepts of object-oriented programming (OOP).\n",
    "\n",
    "### Creating class\n",
    "\n",
    "Syntax:\n",
    "```\n",
    "class ClassName(object):\n",
    "    def __init__(self, parameter1, parameter2, ...):\n",
    "        # Constructor method\n",
    "        # Initialize instance variables\n",
    "\n",
    "    def method1(self, parameter1, parameter2, ...):\n",
    "        # Method definition\n",
    "\n",
    "    def method2(self, parameter1, parameter2, ...):\n",
    "        # Method definition\n",
    "\n",
    "    # Additional methods and attributes\n",
    "```\n",
    "Here:\n",
    "- The `class` keyword is used to define a new class.\n",
    "- `ClassName` is the name of the class. It follows the same naming conventions as variables. By convention, user-defined Python class names start with a capital letter.\n",
    "- Parentheses after the ClassName are used to specify class to inherit from, that is to have all the properties from that class. In the example above, we inherit our class from `object`  class,  which is the simplest, most basic class. \n",
    "- The `__init__()` method is a special method known as the *constructor*. It is called automatically when an object is created from the class. You can use this method to initialize the instance variables (attributes) of the object. \n",
    "   - `__init__()` always takes at least one argument, `self`, that refers to the object being created and allows access to its attributes and methods.\n",
    "- The other methods defined within the class are regular methods that can perform various operations and computations. They are typically used to define the behavior of the objects created from the class.\n",
    "- Additional methods and attributes can be added as needed.\n",
    "\n",
    "We can access attributes of our objects using dot notation.\n",
    "\n",
    "### `pass` placeholder\n",
    "\n",
    "`pass` doesn't do anything, but it's useful as a placeholder in areas of your code where Python expects an expression.\n",
    "\n",
    "### Creating an instance of class\n",
    "By creating instances of a class, you can work with specific objects that have their own unique characteristics and behaviors defined by the class blueprint.\n",
    "\n",
    "Syntax:\n",
    "```\n",
    "new_object = ClassName(constructor_arguments)\n",
    "```\n",
    "- `variable_name`: Choose a name for the variable that will refer to the instance of the class.\n",
    "- `ClassName`: Specify the name of the class you want to instantiate.\n",
    "- `constructor_arguments`: Provide the necessary arguments required by the class's constructor (the `__init__()` method) if it has any."
   ]
  },
  {
   "cell_type": "code",
   "execution_count": 4,
   "id": "ea4243c7",
   "metadata": {},
   "outputs": [
    {
     "name": "stdout",
     "output_type": "stream",
     "text": [
      "Hello, my name is John and I am 25 years old.\n",
      "John\n",
      "25\n"
     ]
    }
   ],
   "source": [
    "# Practice examples of creating classes\n",
    "\n",
    "class Person:\n",
    "    def __init__(self, name, age):\n",
    "        self.name = name\n",
    "        self.age = age\n",
    "    \n",
    "    def greet(self):\n",
    "        print(f\"Hello, my name is {self.name} and I am {self.age} years old.\")\n",
    "\n",
    "# Creating an instance of the Person class\n",
    "person1 = Person(\"John\", 25)\n",
    "person1.greet()  # Output: Hello, my name is John and I am 25 years old.\n",
    "## using dot notation to access attributes of our object `person1`\n",
    "print(person1.name) \n",
    "print(person1.age)\n",
    "## In this example, person1 is the variable that references the newly created instance of the Person class. \n",
    "## The Person(\"John\", 25) part invokes the class's constructor (__init__) with the provided arguments \"John\" and 25."
   ]
  },
  {
   "cell_type": "markdown",
   "id": "4e01de5b",
   "metadata": {},
   "source": [
    "### Class member variables\n",
    "\n",
    "**Class member variables**, also known as *class attributes* or *class variables*, are variables that are defined at the class level and shared among all instances of the class. They hold data that is common to all objects of the class. \n",
    "Unlike *instance variables*, which are specific to each object, class member variables have the same value across all instances of the class.\n",
    "\n",
    "Here are some key points about class member variables:\n",
    "- They are defined within the class but outside of any methods.\n",
    "- Class member variables are accessible by all instances of the class.\n",
    "- They are shared among all instances, meaning that modifying the value of a class member variable in one instance will affect all other instances of the class.\n",
    "- They can be accessed using the class name itself or any instance of the class.\n",
    "\n",
    "Class member variables are useful for storing data that is common across all objects of a class, such as configuration settings, shared counters, or default values. They provide a way to maintain consistent data among different instances of the class."
   ]
  },
  {
   "cell_type": "code",
   "execution_count": 13,
   "id": "d655a14d",
   "metadata": {},
   "outputs": [
    {
     "name": "stdout",
     "output_type": "stream",
     "text": [
      "Toyota\n",
      "Toyota\n",
      "Honda\n",
      "Honda\n"
     ]
    }
   ],
   "source": [
    "# Examples to illustrate class member variables\n",
    "\n",
    "class Car:\n",
    "    manufacturer = \"Toyota\"  # Class member variable\n",
    "\n",
    "    def __init__(self, model):\n",
    "        self.model = model  # Instance variable\n",
    "\n",
    "car1 = Car(\"Camry\")\n",
    "car2 = Car(\"Corolla\")\n",
    "\n",
    "print(car1.manufacturer)  # Output: Toyota\n",
    "print(car2.manufacturer)  # Output: Toyota\n",
    "\n",
    "Car.manufacturer = \"Honda\"  # Modifying class member variable\n",
    "\n",
    "print(car1.manufacturer)  # Output: Honda\n",
    "print(car2.manufacturer)  # Output: Honda"
   ]
  },
  {
   "cell_type": "markdown",
   "id": "80ba3948",
   "metadata": {},
   "source": [
    "### Class Inheritance\n",
    "\n",
    "One of the benefits of classes is that we can create more complicated classes that inherit variables or methods from their parent classes. This saves us time and helps us build more complicated objects, since these child classes can also include additional variables or methods.\n",
    "\n",
    "**Inheritance** is a fundamental concept in object-oriented programming that allows you to create a new class (called the *child class* or *derived class*) based on an existing class (called the *parent class* or *base class*). \n",
    "\n",
    "The child class inherits the attributes and behaviors of the parent class, and can also add its own unique attributes and behaviors. \n",
    "\n",
    "Inheritance promotes code reusability and supports the principle of code organization and modularity.\n",
    "\n",
    "\n",
    "#### Syntax for inheritance\n",
    "```\n",
    "class ParentClass:\n",
    "    # Parent class definition\n",
    "\n",
    "class ChildClass(ParentClass):\n",
    "    # Child class definition\n",
    "```\n",
    "The `ChildClass` is created by specifying the name of the parent class in parentheses after the child class name.\n",
    "The child class inherits all the attributes and methods of the parent class.\n",
    "\n",
    "#### About `object` class\n",
    "If you create a class without specifying a parent class, the default parent class is `object`. The `object` class is the base class for all classes in Python. It is the root of the class hierarchy and provides the most basic functionalities that are common to all objects.\n",
    "\n",
    "When a class definition does not explicitly inherit from any other class, it implicitly inherits from `object`. This means that every class in Python, whether explicitly stated or not, is a subclass of `object`.\n"
   ]
  },
  {
   "cell_type": "code",
   "execution_count": 4,
   "id": "d007d2fe",
   "metadata": {},
   "outputs": [
    {
     "name": "stdout",
     "output_type": "stream",
     "text": [
      "The animal makes a sound.\n",
      "The dog barks.\n"
     ]
    }
   ],
   "source": [
    "# Practice examples with inheritance\n",
    "\n",
    "class Animal:\n",
    "    def make_sound(self):\n",
    "        print(\"The animal makes a sound.\")\n",
    "\n",
    "class Dog(Animal):\n",
    "    def make_sound(self):\n",
    "        print(\"The dog barks.\")\n",
    "\n",
    "animal = Animal()\n",
    "animal.make_sound()  # Output: The animal makes a sound.\n",
    "\n",
    "dog = Dog()\n",
    "dog.make_sound()  # Output: The dog barks.\n",
    "\n",
    "# In this example, both the Animal and Dog classes have a make_sound() method.\n",
    "# The Dog class overrides the make_sound() method inherited from the Animal class and provides its own implementation.\n",
    "# When calling make_sound() on an instance of the Dog class, it executes the overridden method from the child class."
   ]
  },
  {
   "cell_type": "markdown",
   "id": "afc9fc48",
   "metadata": {},
   "source": [
    "### Using `super()` function\n",
    "\n",
    "`super()` is a built-in function that allows you to call methods from a parent class in a subclass. It provides a way to invoke the methods of the superclass, enabling you to extend or override their functionality while maintaining the original behavior. The `super()` function is typically used within the `__init__()` method or other overridden methods.\n",
    "\n",
    "#### Usage of `super()`:\n",
    "The general syntax to call a method from the superclass using `super()` is:\n",
    "```\n",
    "super().method_name(arguments)\n",
    "```\n",
    "Here, `super()` returns a temporary object that represents the parent class, and you can call any method from the parent class using dot notation.\n",
    "\n",
    "#### Cases when `super()` might be required:\n",
    "- When you override a method in a subclass and want to invoke the parent class's implementation alongside the new implementation.\n",
    "- When you want to extend or customize the behavior of a parent class's method in a subclass."
   ]
  },
  {
   "cell_type": "code",
   "execution_count": 17,
   "id": "8c088c78",
   "metadata": {},
   "outputs": [
    {
     "name": "stdout",
     "output_type": "stream",
     "text": [
      "Unknown sound\n",
      "Woof!\n",
      "Meow!\n",
      "Unknown sound\n"
     ]
    }
   ],
   "source": [
    "# Practice example with `super()`\n",
    "\n",
    "# Here, we have three classes: Animal, Dog, Cat. Both Dog and Cat inherit from the Animal class. \n",
    "# Each class has its own implementation of the make_sound() method.\n",
    "\n",
    "class Animal:\n",
    "    def __init__(self, name):\n",
    "        self.name = name\n",
    "\n",
    "    def make_sound(self):\n",
    "        print(\"Unknown sound\")\n",
    "\n",
    "\n",
    "class Dog(Animal):\n",
    "    def __init__(self, name):\n",
    "        super().__init__(name)\n",
    "\n",
    "    def make_sound(self):\n",
    "        print(\"Woof!\")\n",
    "\n",
    "\n",
    "class Cat(Animal):\n",
    "    def __init__(self, name):\n",
    "        super().__init__(name)\n",
    "\n",
    "    def make_sound(self):\n",
    "        print(\"Meow!\")\n",
    "\n",
    "\n",
    "class Cow(Animal):\n",
    "    def __init__(self, name):\n",
    "        super().__init__(name)\n",
    "\n",
    "animal = Animal(\"Just an animal\")\n",
    "animal.make_sound()\n",
    "\n",
    "dog = Dog(\"Rex\")\n",
    "dog.make_sound()\n",
    "\n",
    "cat = Cat(\"Kitty\")\n",
    "cat.make_sound()\n",
    "\n",
    "cow = Cow(\"Cowee\")\n",
    "cow.make_sound()\n",
    "# cow Cowee makes 'unknown sound' because we didn't override the make_sound() method from the parent class to make it \"Moo\""
   ]
  }
 ],
 "metadata": {
  "kernelspec": {
   "display_name": "Python 3 (ipykernel)",
   "language": "python",
   "name": "python3"
  },
  "language_info": {
   "codemirror_mode": {
    "name": "ipython",
    "version": 3
   },
   "file_extension": ".py",
   "mimetype": "text/x-python",
   "name": "python",
   "nbconvert_exporter": "python",
   "pygments_lexer": "ipython3",
   "version": "3.10.9"
  }
 },
 "nbformat": 4,
 "nbformat_minor": 5
}
